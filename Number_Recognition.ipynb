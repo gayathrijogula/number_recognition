{
  "nbformat": 4,
  "nbformat_minor": 0,
  "metadata": {
    "colab": {
      "provenance": []
    },
    "kernelspec": {
      "name": "python3",
      "display_name": "Python 3"
    },
    "language_info": {
      "name": "python"
    }
  },
  "cells": [
    {
      "cell_type": "code",
      "execution_count": 1,
      "metadata": {
        "id": "YJGLNjgtVT7J"
      },
      "outputs": [],
      "source": [
        "import numpy as np\n",
        "import keras\n",
        "from keras.datasets import mnist\n",
        "from keras.models import Model\n",
        "from keras.layers import Dense, Input\n",
        "from keras.layers import Conv2D, MaxPooling2D, Dropout, Flatten\n",
        "from keras import backend as k"
      ]
    },
    {
      "cell_type": "code",
      "source": [
        "(x_train, y_train), (x_test, y_test) = mnist.load_data()"
      ],
      "metadata": {
        "colab": {
          "base_uri": "https://localhost:8080/"
        },
        "id": "DuiZnAXgV5E_",
        "outputId": "8618da9c-c539-453a-a665-0e1085e573d8"
      },
      "execution_count": 2,
      "outputs": [
        {
          "output_type": "stream",
          "name": "stdout",
          "text": [
            "Downloading data from https://storage.googleapis.com/tensorflow/tf-keras-datasets/mnist.npz\n",
            "11490434/11490434 [==============================] - 0s 0us/step\n"
          ]
        }
      ]
    },
    {
      "cell_type": "code",
      "source": [
        "img_rows, img_cols=28, 28\n",
        "\n",
        "if k.image_data_format() == 'channels_first':\n",
        "  x_train = x_train.reshape(x_train.shape[0], 1, img_rows, img_cols)\n",
        "  x_test = x_test.reshape(x_test.shape[0], 1, img_rows, img_cols)\n",
        "  inpx = (1, img_rows, img_cols)\n",
        "\n",
        "else:\n",
        "  x_train = x_train.reshape(x_train.shape[0], img_rows, img_cols, 1)\n",
        "  x_test = x_test.reshape(x_test.shape[0], img_rows, img_cols, 1)\n",
        "  inpx = (img_rows, img_cols, 1)\n",
        "\n",
        "x_train = x_train.astype('float32')\n",
        "x_test = x_test.astype('float32')\n",
        "x_train /= 255\n",
        "x_test /= 255"
      ],
      "metadata": {
        "id": "0lXzaJFIV_dd"
      },
      "execution_count": 3,
      "outputs": []
    },
    {
      "cell_type": "code",
      "source": [
        "y_train = keras.utils.to_categorical(y_train)\n",
        "y_test = keras.utils.to_categorical(y_test)"
      ],
      "metadata": {
        "id": "JHMzTaYGWFKP"
      },
      "execution_count": 4,
      "outputs": []
    },
    {
      "cell_type": "code",
      "source": [
        "inpx = Input(shape=inpx)\n",
        "layer1 = Conv2D(32, kernel_size=(3, 3), activation='relu')(inpx)\n",
        "layer2 = Conv2D(64, (3, 3), activation='relu')(layer1)\n",
        "layer3 = MaxPooling2D(pool_size=(3, 3))(layer2)\n",
        "layer4 = Dropout(0.5)(layer3)\n",
        "layer5 = Flatten()(layer4)\n",
        "layer6 = Dense(250, activation='sigmoid')(layer5)\n",
        "layer7 = Dense(10, activation='softmax')(layer6)"
      ],
      "metadata": {
        "id": "Qq4pWzUjWKkM"
      },
      "execution_count": 5,
      "outputs": []
    },
    {
      "cell_type": "code",
      "source": [
        "model = Model([inpx], layer7)\n",
        "model.compile(optimizer=keras.optimizers.Adadelta(),\n",
        "\t\t\tloss=keras.losses.categorical_crossentropy,\n",
        "\t\t\tmetrics=['accuracy'])\n",
        "\n",
        "model.fit(x_train, y_train, epochs=12, batch_size=500)\n"
      ],
      "metadata": {
        "colab": {
          "base_uri": "https://localhost:8080/"
        },
        "id": "IKHAjMlZWQ1H",
        "outputId": "2b1ddb37-c467-4852-9316-2cbc75b2a512"
      },
      "execution_count": 6,
      "outputs": [
        {
          "output_type": "stream",
          "name": "stdout",
          "text": [
            "Epoch 1/12\n",
            "120/120 [==============================] - 153s 1s/step - loss: 2.4224 - accuracy: 0.0993\n",
            "Epoch 2/12\n",
            "120/120 [==============================] - 151s 1s/step - loss: 2.4063 - accuracy: 0.0993\n",
            "Epoch 3/12\n",
            "120/120 [==============================] - 155s 1s/step - loss: 2.3917 - accuracy: 0.0993\n",
            "Epoch 4/12\n",
            "120/120 [==============================] - 157s 1s/step - loss: 2.3771 - accuracy: 0.0993\n",
            "Epoch 5/12\n",
            "120/120 [==============================] - 158s 1s/step - loss: 2.3639 - accuracy: 0.0993\n",
            "Epoch 6/12\n",
            "120/120 [==============================] - 157s 1s/step - loss: 2.3513 - accuracy: 0.0993\n",
            "Epoch 7/12\n",
            "120/120 [==============================] - 156s 1s/step - loss: 2.3395 - accuracy: 0.0993\n",
            "Epoch 8/12\n",
            "120/120 [==============================] - 157s 1s/step - loss: 2.3286 - accuracy: 0.0993\n",
            "Epoch 9/12\n",
            "120/120 [==============================] - 155s 1s/step - loss: 2.3181 - accuracy: 0.0993\n",
            "Epoch 10/12\n",
            "120/120 [==============================] - 155s 1s/step - loss: 2.3083 - accuracy: 0.0994\n",
            "Epoch 11/12\n",
            "120/120 [==============================] - 154s 1s/step - loss: 2.2988 - accuracy: 0.0995\n",
            "Epoch 12/12\n",
            "120/120 [==============================] - 155s 1s/step - loss: 2.2900 - accuracy: 0.1002\n"
          ]
        },
        {
          "output_type": "execute_result",
          "data": {
            "text/plain": [
              "<keras.callbacks.History at 0x7c787fad3460>"
            ]
          },
          "metadata": {},
          "execution_count": 6
        }
      ]
    },
    {
      "cell_type": "code",
      "source": [
        "score = model.evaluate(x_test, y_test, verbose=0)\n",
        "print('loss=', score[0])\n",
        "print('accuracy=', score[1])"
      ],
      "metadata": {
        "colab": {
          "base_uri": "https://localhost:8080/"
        },
        "id": "af_Q8duwdiJb",
        "outputId": "9d019dd9-d4f3-438d-92b0-18ffe1bfcd26"
      },
      "execution_count": 7,
      "outputs": [
        {
          "output_type": "stream",
          "name": "stdout",
          "text": [
            "loss= 2.2828993797302246\n",
            "accuracy= 0.10320000350475311\n"
          ]
        }
      ]
    }
  ]
}